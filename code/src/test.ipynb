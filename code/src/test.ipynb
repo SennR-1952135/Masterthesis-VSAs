{
 "cells": [
  {
   "attachments": {},
   "cell_type": "markdown",
   "metadata": {},
   "source": [
    "# Imports"
   ]
  },
  {
   "cell_type": "code",
   "execution_count": 2,
   "metadata": {},
   "outputs": [],
   "source": [
    "import numpy as np\n",
    "import pandas as pd\n",
    "import matplotlib.pyplot as plt\n",
    "import torchhd\n",
    "import torch\n"
   ]
  },
  {
   "attachments": {},
   "cell_type": "markdown",
   "metadata": {},
   "source": [
    "# Load Data"
   ]
  },
  {
   "cell_type": "code",
   "execution_count": 3,
   "metadata": {},
   "outputs": [
    {
     "data": {
      "text/plain": [
       "(FHRRTensor([[1.+0.j, 1.+0.j, 1.+0.j,  ..., 1.+0.j, 1.+0.j, 1.+0.j]]),\n",
       " FHRRTensor([[ 0.8021-0.5971j, -0.2730-0.9620j, -0.9878+0.1557j,  ...,\n",
       "               0.8579-0.5138j,  0.2561+0.9666j,  0.7557-0.6550j]]),\n",
       " torch.Size([1, 10000]))"
      ]
     },
     "execution_count": 3,
     "metadata": {},
     "output_type": "execute_result"
    }
   ],
   "source": [
    "DIMENSIONS = 10000\n",
    "vsa_type = 'FHRR'\n",
    "identity = torchhd.identity(1, DIMENSIONS, vsa_type)\n",
    "random = torchhd.random(1, DIMENSIONS, vsa_type)\n",
    "a, b, c = torchhd.random(3, DIMENSIONS, vsa_type)\n",
    "\n",
    "identity, random, identity.shape"
   ]
  },
  {
   "cell_type": "code",
   "execution_count": 4,
   "metadata": {},
   "outputs": [
    {
     "name": "stdout",
     "output_type": "stream",
     "text": [
      "Similarity between a and random: FHRRTensor([0.0012])\n",
      "Similarity between multiset of a,b,c and c: FHRRTensor(0.5777)\n"
     ]
    }
   ],
   "source": [
    "print('Similarity between a and random:', torchhd.cosine_similarity(a, random))\n",
    "multiset = torchhd.multiset(torch.stack([a, b, c]))\n",
    "print('Similarity between multiset of a,b,c and c:', torchhd.cosine_similarity(multiset, c))\n",
    "\n",
    "# print('Similarity between a and b:', torchhd.hamming_similarity(a, b)/ DIMENSIONS)\n",
    "# multiset = torchhd.multiset(torch.stack([a, b, c]))\n",
    "# print('Similarity between multiset of a,b,c and c:', torchhd.hamming_similarity(multiset, b)/ DIMENSIONS)"
   ]
  },
  {
   "cell_type": "code",
   "execution_count": 5,
   "metadata": {},
   "outputs": [
    {
     "name": "stdout",
     "output_type": "stream",
     "text": [
      "BSCTensor([[False, False, False,  ...,  True, False,  True]])\n",
      "BSCTensor([[ True, False, False,  ..., False,  True, False]])\n",
      "counting ones: BSCTensor(967)\n",
      "counting zeros: BSCTensor(5059)\n"
     ]
    }
   ],
   "source": [
    "x = torch.empty(1, 100).bernoulli_(0.9)\n",
    "x = torchhd.empty(1, 10_000, 'BSC').bernoulli_(0.1)\n",
    "# print(x)\n",
    "# x = torchhd.ensure_vsa_tensor(x, 'BSC')\n",
    "print(x)\n",
    "r = torchhd.random(1, 10_000, 'BSC')\n",
    "print(r)\n",
    "\n",
    "print('counting ones:', torch.count_nonzero(x))\n",
    "print('counting zeros:', torch.count_nonzero(r))"
   ]
  },
  {
   "attachments": {},
   "cell_type": "markdown",
   "metadata": {},
   "source": [
    "Tensors initially share memory; after bundling, they do not."
   ]
  },
  {
   "cell_type": "code",
   "execution_count": 6,
   "metadata": {},
   "outputs": [
    {
     "name": "stdout",
     "output_type": "stream",
     "text": [
      "BSCTensor([[True, True, True,  ..., True, True, True]])\n",
      "168859200 168859200\n",
      "BSCTensor([[ True,  True,  True,  ...,  True, False, False]])\n",
      "169395776 168859200\n"
     ]
    }
   ],
   "source": [
    "first_vector = torchhd.random(1, DIMENSIONS, 'BSC')\n",
    "copy_vector = first_vector#.clone()\n",
    "print(first_vector == copy_vector)\n",
    "print(first_vector.data_ptr(), copy_vector.data_ptr())\n",
    "i = torchhd.ensure_vsa_tensor(torch.ones(1, DIMENSIONS), 'BSC')\n",
    "first_vector = torchhd.bundle(first_vector, i)\n",
    "print(first_vector == copy_vector)\n",
    "print(first_vector.data_ptr(), copy_vector.data_ptr())"
   ]
  },
  {
   "cell_type": "code",
   "execution_count": 8,
   "metadata": {},
   "outputs": [
    {
     "name": "stdout",
     "output_type": "stream",
     "text": [
      "MAPTensor([ 1.,  1., -1., -1., -1., -1.,  1.,  1.,  1., -1.]) MAPTensor([ 1.,  1., -1., -1., -1., -1.,  1., -1.,  1.,  1.])\n",
      "MAPTensor([ 1.,  1., -1., -1., -1., -1.,  1.,  1.,  1., -1.])\n"
     ]
    }
   ],
   "source": [
    "a, b = torchhd.random(2, 10)\n",
    "print(a, b)\n",
    "a.bundle(b) # not in-place\n",
    "print(a)"
   ]
  }
 ],
 "metadata": {
  "kernelspec": {
   "display_name": "hdd",
   "language": "python",
   "name": "python3"
  },
  "language_info": {
   "codemirror_mode": {
    "name": "ipython",
    "version": 3
   },
   "file_extension": ".py",
   "mimetype": "text/x-python",
   "name": "python",
   "nbconvert_exporter": "python",
   "pygments_lexer": "ipython3",
   "version": "3.11.5"
  },
  "orig_nbformat": 4
 },
 "nbformat": 4,
 "nbformat_minor": 2
}
