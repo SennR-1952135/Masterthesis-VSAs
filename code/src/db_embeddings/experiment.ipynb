{
 "cells": [
  {
   "cell_type": "code",
   "execution_count": 46,
   "metadata": {},
   "outputs": [],
   "source": [
    "import torchhd, torch\n",
    "import numpy as np\n",
    "import pandas as pd\n",
    "import matplotlib.pyplot as plt\n",
    "from HDDB import HDDB\n",
    "from utils import similarity_func_partial\n",
    "from functools import partial"
   ]
  },
  {
   "cell_type": "markdown",
   "metadata": {},
   "source": [
    "### Loading the dataset"
   ]
  },
  {
   "cell_type": "code",
   "execution_count": 47,
   "metadata": {},
   "outputs": [
    {
     "data": {
      "text/html": [
       "<div>\n",
       "<style scoped>\n",
       "    .dataframe tbody tr th:only-of-type {\n",
       "        vertical-align: middle;\n",
       "    }\n",
       "\n",
       "    .dataframe tbody tr th {\n",
       "        vertical-align: top;\n",
       "    }\n",
       "\n",
       "    .dataframe thead th {\n",
       "        text-align: right;\n",
       "    }\n",
       "</style>\n",
       "<table border=\"1\" class=\"dataframe\">\n",
       "  <thead>\n",
       "    <tr style=\"text-align: right;\">\n",
       "      <th></th>\n",
       "      <th>fname</th>\n",
       "      <th>lname</th>\n",
       "      <th>city</th>\n",
       "      <th>state</th>\n",
       "      <th>zip</th>\n",
       "    </tr>\n",
       "  </thead>\n",
       "  <tbody>\n",
       "    <tr>\n",
       "      <th>0</th>\n",
       "      <td>John</td>\n",
       "      <td>Doe</td>\n",
       "      <td>Riverside</td>\n",
       "      <td>NJ</td>\n",
       "      <td>8075</td>\n",
       "    </tr>\n",
       "    <tr>\n",
       "      <th>1</th>\n",
       "      <td>Jack</td>\n",
       "      <td>McGinnis</td>\n",
       "      <td>Philadelphia</td>\n",
       "      <td>PA</td>\n",
       "      <td>9119</td>\n",
       "    </tr>\n",
       "    <tr>\n",
       "      <th>2</th>\n",
       "      <td>John</td>\n",
       "      <td>Repici</td>\n",
       "      <td>Riverside</td>\n",
       "      <td>NJ</td>\n",
       "      <td>8075</td>\n",
       "    </tr>\n",
       "    <tr>\n",
       "      <th>3</th>\n",
       "      <td>Stephen</td>\n",
       "      <td>Tyler</td>\n",
       "      <td>SomeTown</td>\n",
       "      <td>SD</td>\n",
       "      <td>91234</td>\n",
       "    </tr>\n",
       "    <tr>\n",
       "      <th>4</th>\n",
       "      <td>John</td>\n",
       "      <td>Blankman</td>\n",
       "      <td>SomeTown</td>\n",
       "      <td>SD</td>\n",
       "      <td>298</td>\n",
       "    </tr>\n",
       "    <tr>\n",
       "      <th>5</th>\n",
       "      <td>Joan</td>\n",
       "      <td>Anne</td>\n",
       "      <td>Desert City</td>\n",
       "      <td>CO</td>\n",
       "      <td>123</td>\n",
       "    </tr>\n",
       "    <tr>\n",
       "      <th>6</th>\n",
       "      <td>Jack</td>\n",
       "      <td>Repici</td>\n",
       "      <td>Riverside</td>\n",
       "      <td>NJ</td>\n",
       "      <td>8075</td>\n",
       "    </tr>\n",
       "    <tr>\n",
       "      <th>7</th>\n",
       "      <td>Lilly</td>\n",
       "      <td>Repici</td>\n",
       "      <td>Philadelphia</td>\n",
       "      <td>PA</td>\n",
       "      <td>9119</td>\n",
       "    </tr>\n",
       "  </tbody>\n",
       "</table>\n",
       "</div>"
      ],
      "text/plain": [
       "     fname     lname          city state    zip\n",
       "0     John       Doe     Riverside    NJ   8075\n",
       "1     Jack  McGinnis  Philadelphia    PA   9119\n",
       "2     John    Repici     Riverside    NJ   8075\n",
       "3  Stephen     Tyler      SomeTown    SD  91234\n",
       "4     John  Blankman      SomeTown    SD    298\n",
       "5     Joan      Anne   Desert City    CO    123\n",
       "6     Jack    Repici     Riverside    NJ   8075\n",
       "7    Lilly    Repici  Philadelphia    PA   9119"
      ]
     },
     "execution_count": 47,
     "metadata": {},
     "output_type": "execute_result"
    }
   ],
   "source": [
    "df = pd.read_csv('data/addresses.csv')\n",
    "# strip whitespace from all values\n",
    "df = df.apply(lambda x: x.str.strip() if x.dtype == \"object\" else x)\n",
    "df = df.drop(columns=['address'])\n",
    "df"
   ]
  },
  {
   "cell_type": "code",
   "execution_count": 48,
   "metadata": {},
   "outputs": [],
   "source": [
    "exp_dim = 10_000\n",
    "exp_vsa_type = \"MAP\"\n",
    "sim_func = partial(similarity_func_partial, exp_vsa_type)\n",
    "hdDB = HDDB(dim=exp_dim, vsa_type=exp_vsa_type)"
   ]
  },
  {
   "cell_type": "code",
   "execution_count": 49,
   "metadata": {},
   "outputs": [],
   "source": [
    "hdDB.set_columns(df.columns)"
   ]
  },
  {
   "cell_type": "code",
   "execution_count": 50,
   "metadata": {},
   "outputs": [],
   "source": [
    "for index, row in df.iterrows():\n",
    "    values = row.values\n",
    "    hdDB.add_row(index, values)"
   ]
  },
  {
   "cell_type": "code",
   "execution_count": 51,
   "metadata": {},
   "outputs": [
    {
     "name": "stdout",
     "output_type": "stream",
     "text": [
      "[(2, 0.39079999923706055), (0, 0.38760000467300415), (6, 0.37439998984336853), (5, 0.009800000116229057), (7, 0.00419999985024333)]\n",
      "   fname   lname          city state   zip\n",
      "2   John  Repici     Riverside    NJ  8075\n",
      "0   John     Doe     Riverside    NJ  8075\n",
      "6   Jack  Repici     Riverside    NJ  8075\n",
      "5   Joan    Anne   Desert City    CO   123\n",
      "7  Lilly  Repici  Philadelphia    PA  9119\n"
     ]
    }
   ],
   "source": [
    "vec_NJ = hdDB.columns['state']['NJ']\n",
    "query_vec_NJ = torchhd.bind(hdDB.columns['state'].atomic_vector, hdDB.columns['state']['NJ'])\n",
    "results = hdDB.most_similar_rows(query_vec_NJ, 5)\n",
    "print(results)\n",
    "print(df.iloc[[t[0] for t in results]])"
   ]
  },
  {
   "cell_type": "code",
   "execution_count": 52,
   "metadata": {},
   "outputs": [
    {
     "name": "stdout",
     "output_type": "stream",
     "text": [
      "[(7, 0.3862000107765198), (6, 0.3779999911785126), (2, 0.36480000615119934), (1, 0.01360000018030405), (5, 0.010200000368058681)]\n",
      "   fname     lname          city state   zip\n",
      "7  Lilly    Repici  Philadelphia    PA  9119\n",
      "6   Jack    Repici     Riverside    NJ  8075\n",
      "2   John    Repici     Riverside    NJ  8075\n",
      "1   Jack  McGinnis  Philadelphia    PA  9119\n",
      "5   Joan      Anne   Desert City    CO   123\n"
     ]
    }
   ],
   "source": [
    "vec_lastname_repici = hdDB.columns['lname']['Repici']\n",
    "query_vec_lastname_repici = torchhd.bind(hdDB.columns['lname'].atomic_vector, hdDB.columns['lname']['Repici'])\n",
    "results = hdDB.most_similar_rows(query_vec_lastname_repici, 5)\n",
    "print(results)\n",
    "print(df.iloc[[t[0] for t in results]])"
   ]
  },
  {
   "cell_type": "code",
   "execution_count": 56,
   "metadata": {},
   "outputs": [
    {
     "name": "stdout",
     "output_type": "stream",
     "text": [
      "MAPTensor(0.3744)\n",
      "MAPTensor(-0.0022)\n",
      "[(6, 0.8300603032112122), (2, 0.5948966145515442), (7, 0.32696425914764404), (0, 0.25299370288848877), (1, 0.09782423824071884)]\n",
      "   fname     lname          city state   zip\n",
      "6   Jack    Repici     Riverside    NJ  8075\n",
      "2   John    Repici     Riverside    NJ  8075\n",
      "7  Lilly    Repici  Philadelphia    PA  9119\n",
      "0   John       Doe     Riverside    NJ  8075\n",
      "1   Jack  McGinnis  Philadelphia    PA  9119\n"
     ]
    }
   ],
   "source": [
    "jack_repici_vec = hdDB[6]\n",
    "# t = torchhd.inverse(hdDB.columns['state'].atomic_vector)\n",
    "\n",
    "# unbinding to obtain the state that Jack Repici lives in\n",
    "jack_repici_state_vec = torchhd.bind(jack_repici_vec, torchhd.inverse(hdDB.columns['state'].atomic_vector))\n",
    "print(sim_func(jack_repici_state_vec, hdDB.columns['state']['NJ']))\n",
    "print(sim_func(jack_repici_state_vec, hdDB.columns['state']['PA']))\n",
    "\n",
    "query_vec = torchhd.bind(hdDB.columns['state'].atomic_vector, jack_repici_state_vec)\n",
    "query_vec = torchhd.bundle(query_vec, query_vec_lastname_repici)\n",
    "results = hdDB.most_similar_rows(query_vec, 5)\n",
    "print(results)\n",
    "print(df.iloc[[t[0] for t in results]])\n"
   ]
  }
 ],
 "metadata": {
  "kernelspec": {
   "display_name": "hdd",
   "language": "python",
   "name": "python3"
  },
  "language_info": {
   "codemirror_mode": {
    "name": "ipython",
    "version": 3
   },
   "file_extension": ".py",
   "mimetype": "text/x-python",
   "name": "python",
   "nbconvert_exporter": "python",
   "pygments_lexer": "ipython3",
   "version": "3.11.5"
  }
 },
 "nbformat": 4,
 "nbformat_minor": 2
}
