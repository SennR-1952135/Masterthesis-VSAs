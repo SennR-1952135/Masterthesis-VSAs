{
 "cells": [
  {
   "cell_type": "code",
   "execution_count": 3,
   "metadata": {},
   "outputs": [],
   "source": [
    "import torchhd, torch\n",
    "import numpy as np\n",
    "import pandas as pd\n",
    "import matplotlib.pyplot as plt\n",
    "from HDDB import HDDB\n",
    "from utils import similarity_func_partial\n",
    "from functools import partial"
   ]
  },
  {
   "cell_type": "markdown",
   "metadata": {},
   "source": [
    "### Loading the dataset"
   ]
  },
  {
   "cell_type": "code",
   "execution_count": 4,
   "metadata": {},
   "outputs": [
    {
     "data": {
      "text/html": [
       "<div>\n",
       "<style scoped>\n",
       "    .dataframe tbody tr th:only-of-type {\n",
       "        vertical-align: middle;\n",
       "    }\n",
       "\n",
       "    .dataframe tbody tr th {\n",
       "        vertical-align: top;\n",
       "    }\n",
       "\n",
       "    .dataframe thead th {\n",
       "        text-align: right;\n",
       "    }\n",
       "</style>\n",
       "<table border=\"1\" class=\"dataframe\">\n",
       "  <thead>\n",
       "    <tr style=\"text-align: right;\">\n",
       "      <th></th>\n",
       "      <th>fname</th>\n",
       "      <th>lname</th>\n",
       "      <th>city</th>\n",
       "      <th>state</th>\n",
       "    </tr>\n",
       "  </thead>\n",
       "  <tbody>\n",
       "    <tr>\n",
       "      <th>0</th>\n",
       "      <td>John</td>\n",
       "      <td>Doe</td>\n",
       "      <td>Riverside</td>\n",
       "      <td>NJ</td>\n",
       "    </tr>\n",
       "    <tr>\n",
       "      <th>1</th>\n",
       "      <td>Jack</td>\n",
       "      <td>McGinnis</td>\n",
       "      <td>Philadelphia</td>\n",
       "      <td>PA</td>\n",
       "    </tr>\n",
       "    <tr>\n",
       "      <th>2</th>\n",
       "      <td>John</td>\n",
       "      <td>Repici</td>\n",
       "      <td>Riverside</td>\n",
       "      <td>NJ</td>\n",
       "    </tr>\n",
       "    <tr>\n",
       "      <th>3</th>\n",
       "      <td>Stephen</td>\n",
       "      <td>Tyler</td>\n",
       "      <td>SomeTown</td>\n",
       "      <td>SD</td>\n",
       "    </tr>\n",
       "    <tr>\n",
       "      <th>4</th>\n",
       "      <td>John</td>\n",
       "      <td>Blankman</td>\n",
       "      <td>SomeTown</td>\n",
       "      <td>SD</td>\n",
       "    </tr>\n",
       "    <tr>\n",
       "      <th>5</th>\n",
       "      <td>Joan</td>\n",
       "      <td>Anne</td>\n",
       "      <td>Desert City</td>\n",
       "      <td>CO</td>\n",
       "    </tr>\n",
       "    <tr>\n",
       "      <th>6</th>\n",
       "      <td>Jack</td>\n",
       "      <td>Repici</td>\n",
       "      <td>Riverside</td>\n",
       "      <td>NJ</td>\n",
       "    </tr>\n",
       "    <tr>\n",
       "      <th>7</th>\n",
       "      <td>Lilly</td>\n",
       "      <td>Repici</td>\n",
       "      <td>Philadelphia</td>\n",
       "      <td>PA</td>\n",
       "    </tr>\n",
       "  </tbody>\n",
       "</table>\n",
       "</div>"
      ],
      "text/plain": [
       "     fname     lname          city state\n",
       "0     John       Doe     Riverside    NJ\n",
       "1     Jack  McGinnis  Philadelphia    PA\n",
       "2     John    Repici     Riverside    NJ\n",
       "3  Stephen     Tyler      SomeTown    SD\n",
       "4     John  Blankman      SomeTown    SD\n",
       "5     Joan      Anne   Desert City    CO\n",
       "6     Jack    Repici     Riverside    NJ\n",
       "7    Lilly    Repici  Philadelphia    PA"
      ]
     },
     "execution_count": 4,
     "metadata": {},
     "output_type": "execute_result"
    }
   ],
   "source": [
    "df = pd.read_csv('data/addresses.csv')\n",
    "# strip whitespace from all values\n",
    "df = df.apply(lambda x: x.str.strip() if x.dtype == \"object\" else x)\n",
    "df = df.drop(columns=['address', 'zip'])\n",
    "df"
   ]
  },
  {
   "cell_type": "markdown",
   "metadata": {},
   "source": [
    "### Extending the dataset"
   ]
  },
  {
   "cell_type": "code",
   "execution_count": 56,
   "metadata": {},
   "outputs": [
    {
     "name": "stdout",
     "output_type": "stream",
     "text": [
      "51\n",
      "51\n",
      "                 city state  population        lat         lon abbreviation\n",
      "31              Logan  Utah       48913  41.736980 -111.833836           UT\n",
      "193      South Jordan  Utah       59366  40.562170 -111.929658           UT\n",
      "285         Bountiful  Utah       43023  40.889390 -111.880771           UT\n",
      "381             Provo  Utah      116288  40.233844 -111.658534           UT\n",
      "434      Spanish Fork  Utah       36956  40.114955 -111.654923           UT\n",
      "440      Taylorsville  Utah       60519  40.667725 -111.938826           UT\n",
      "466          Riverton  Utah       40921  40.521893 -111.939102           UT\n",
      "500              Lehi  Utah       54382  40.391617 -111.850766           UT\n",
      "533             Ogden  Utah       84249  41.223000 -111.973830           UT\n",
      "568            Layton  Utah       70790  41.060222 -111.971053           UT\n",
      "603            Murray  Utah       48612  40.666892 -111.887991           UT\n",
      "630             Sandy  Utah       90231  40.564978 -111.838973           UT\n",
      "673  West Valley City  Utah      133579  40.691613 -112.001050           UT\n",
      "676              Orem  Utah       91648  40.296898 -111.694648           UT\n",
      "737               Roy  Utah       37733  41.161611 -112.026331           UT\n",
      "762            Draper  Utah       45285  40.524671 -111.863823           UT\n",
      "856        St. George  Utah       76817  37.096528 -113.568416           UT\n",
      "955       West Jordan  Utah      110077  40.609670 -111.939103           UT\n",
      "964    Salt Lake City  Utah      191180  40.760779 -111.891047           UT\n"
     ]
    }
   ],
   "source": [
    "all_states_df = pd.read_csv('data/states.csv')\n",
    "all_states_df.columns = all_states_df.columns.str.strip().str.lower()\n",
    "print(len(all_states_df['abbreviation'].unique()))\n",
    "all_cities_df = pd.read_csv('data/us-cities-top-1k.csv')\n",
    "all_cities_df.columns = all_cities_df.columns.str.strip().str.lower()\n",
    "\n",
    "\n",
    "all_cities_df['abbreviation'] = all_cities_df['state'].apply(lambda x: all_states_df[all_states_df['state'] == x]['abbreviation'].values[0])\n",
    "print(len(all_cities_df['abbreviation'].unique()))\n",
    "all_cities_df.head()\n",
    "print(all_cities_df[all_cities_df['abbreviation'] == 'UT'])"
   ]
  },
  {
   "cell_type": "code",
   "execution_count": 54,
   "metadata": {},
   "outputs": [
    {
     "name": "stdout",
     "output_type": "stream",
     "text": [
      "        fname       lname state          city\n",
      "0  zzxemhbzde  ccasuwtaai    UT         Ogden\n",
      "1  rqxnsmbruu  phbtnpfhvu    CO       Greeley\n",
      "2  toeealkklj  tcarytqkrk    MN      Moorhead\n",
      "3  zxjlrjuapr  edhyueuhkb    HI      Honolulu\n",
      "4  xegxtkgrvb  mbjzzfyhgf    AZ    Oro Valley\n",
      "5  hncikmjjgs  aaaagkokka    NE  Grand Island\n",
      "6  pxubmuvnds  mlsrjtrvaq    HI      Honolulu\n",
      "7  toyjwablnf  horwmovope    RI      Cranston\n",
      "8  evzesdotxu  nnennplhng    NJ       Hoboken\n",
      "9  vsabanjjda  vjgkgdvznp    LA  Bossier City\n"
     ]
    }
   ],
   "source": [
    "def generate_random_rows(n=1000, city_state_relation=False):\n",
    "    \n",
    "    def random_names(n, name_len=10):\n",
    "        return [''.join(np.random.choice(list('abcdefghijklmnopqrstuvwxyz'), name_len, replace=True)) for i in range(n)]\n",
    "    \n",
    "    new_df = pd.DataFrame()\n",
    "    new_df['fname'] = random_names(n)\n",
    "    new_df['lname'] = random_names(n)\n",
    "    new_df['state'] = np.random.choice(all_states_df['abbreviation'].values, n, replace=True)\n",
    "    if city_state_relation:\n",
    "        new_df['city'] = new_df['state'].apply(lambda x: np.random.choice(all_cities_df[all_cities_df['abbreviation'] == x]['city'].values, 1)[0])\n",
    "    else:\n",
    "        new_df['city'] = np.random.choice(all_cities_df['city'].values, n, replace=True)\n",
    "\n",
    "    return new_df\n",
    "\n",
    "print(generate_random_rows(10, city_state_relation=True))"
   ]
  },
  {
   "cell_type": "code",
   "execution_count": 57,
   "metadata": {},
   "outputs": [
    {
     "name": "stdout",
     "output_type": "stream",
     "text": [
      "(1000, 4)\n"
     ]
    },
    {
     "data": {
      "text/html": [
       "<div>\n",
       "<style scoped>\n",
       "    .dataframe tbody tr th:only-of-type {\n",
       "        vertical-align: middle;\n",
       "    }\n",
       "\n",
       "    .dataframe tbody tr th {\n",
       "        vertical-align: top;\n",
       "    }\n",
       "\n",
       "    .dataframe thead th {\n",
       "        text-align: right;\n",
       "    }\n",
       "</style>\n",
       "<table border=\"1\" class=\"dataframe\">\n",
       "  <thead>\n",
       "    <tr style=\"text-align: right;\">\n",
       "      <th></th>\n",
       "      <th>fname</th>\n",
       "      <th>lname</th>\n",
       "      <th>city</th>\n",
       "      <th>state</th>\n",
       "    </tr>\n",
       "  </thead>\n",
       "  <tbody>\n",
       "    <tr>\n",
       "      <th>1834</th>\n",
       "      <td>kkyoucnspz</td>\n",
       "      <td>hjgrcweyjb</td>\n",
       "      <td>Palo Alto</td>\n",
       "      <td>GA</td>\n",
       "    </tr>\n",
       "    <tr>\n",
       "      <th>1997</th>\n",
       "      <td>ynpkkjhnzj</td>\n",
       "      <td>lqxsxfiqew</td>\n",
       "      <td>Portage</td>\n",
       "      <td>SD</td>\n",
       "    </tr>\n",
       "    <tr>\n",
       "      <th>586</th>\n",
       "      <td>alwpegxdlm</td>\n",
       "      <td>myogmctlak</td>\n",
       "      <td>Fort Smith</td>\n",
       "      <td>VA</td>\n",
       "    </tr>\n",
       "    <tr>\n",
       "      <th>70</th>\n",
       "      <td>kcwwdtxplp</td>\n",
       "      <td>jvhktwqrrj</td>\n",
       "      <td>Lexington</td>\n",
       "      <td>ME</td>\n",
       "    </tr>\n",
       "    <tr>\n",
       "      <th>1394</th>\n",
       "      <td>shltgibuoq</td>\n",
       "      <td>nopypltlwo</td>\n",
       "      <td>Lakewood</td>\n",
       "      <td>IA</td>\n",
       "    </tr>\n",
       "    <tr>\n",
       "      <th>1237</th>\n",
       "      <td>gqsycnqwur</td>\n",
       "      <td>oofzgpmahz</td>\n",
       "      <td>Apple Valley</td>\n",
       "      <td>MA</td>\n",
       "    </tr>\n",
       "    <tr>\n",
       "      <th>529</th>\n",
       "      <td>fzxioeinkv</td>\n",
       "      <td>hscdmxqgch</td>\n",
       "      <td>Naples</td>\n",
       "      <td>MI</td>\n",
       "    </tr>\n",
       "    <tr>\n",
       "      <th>301</th>\n",
       "      <td>jmvpurloth</td>\n",
       "      <td>kkkmreibnp</td>\n",
       "      <td>St. Paul</td>\n",
       "      <td>NH</td>\n",
       "    </tr>\n",
       "    <tr>\n",
       "      <th>1529</th>\n",
       "      <td>hbvclgbrgp</td>\n",
       "      <td>olirnhkuwm</td>\n",
       "      <td>Weston</td>\n",
       "      <td>WI</td>\n",
       "    </tr>\n",
       "    <tr>\n",
       "      <th>1044</th>\n",
       "      <td>qrgmmexyzd</td>\n",
       "      <td>uqvgvrijwn</td>\n",
       "      <td>Fort Lauderdale</td>\n",
       "      <td>TN</td>\n",
       "    </tr>\n",
       "  </tbody>\n",
       "</table>\n",
       "</div>"
      ],
      "text/plain": [
       "           fname       lname             city state\n",
       "1834  kkyoucnspz  hjgrcweyjb        Palo Alto    GA\n",
       "1997  ynpkkjhnzj  lqxsxfiqew          Portage    SD\n",
       "586   alwpegxdlm  myogmctlak       Fort Smith    VA\n",
       "70    kcwwdtxplp  jvhktwqrrj        Lexington    ME\n",
       "1394  shltgibuoq  nopypltlwo         Lakewood    IA\n",
       "1237  gqsycnqwur  oofzgpmahz     Apple Valley    MA\n",
       "529   fzxioeinkv  hscdmxqgch           Naples    MI\n",
       "301   jmvpurloth  kkkmreibnp         St. Paul    NH\n",
       "1529  hbvclgbrgp  olirnhkuwm           Weston    WI\n",
       "1044  qrgmmexyzd  uqvgvrijwn  Fort Lauderdale    TN"
      ]
     },
     "execution_count": 57,
     "metadata": {},
     "output_type": "execute_result"
    }
   ],
   "source": [
    "# add random rows to the dataframe\n",
    "random_df = generate_random_rows(1000)\n",
    "print(random_df.shape)\n",
    "df = pd.concat([df, random_df], ignore_index=True)\n",
    "df.sample(10)"
   ]
  },
  {
   "cell_type": "code",
   "execution_count": null,
   "metadata": {},
   "outputs": [],
   "source": []
  },
  {
   "cell_type": "code",
   "execution_count": 58,
   "metadata": {},
   "outputs": [],
   "source": [
    "exp_dim = 10_000\n",
    "exp_vsa_type = \"MAP\"\n",
    "sim_func = partial(similarity_func_partial, exp_vsa_type)\n",
    "hdDB = HDDB(dim=exp_dim, vsa_type=exp_vsa_type)"
   ]
  },
  {
   "cell_type": "code",
   "execution_count": 59,
   "metadata": {},
   "outputs": [],
   "source": [
    "hdDB.set_columns(df.columns)"
   ]
  },
  {
   "cell_type": "code",
   "execution_count": 60,
   "metadata": {},
   "outputs": [],
   "source": [
    "for index, row in df.iterrows():\n",
    "    values = row.values\n",
    "    hdDB.add_row(index, values)"
   ]
  },
  {
   "cell_type": "code",
   "execution_count": 61,
   "metadata": {},
   "outputs": [
    {
     "name": "stdout",
     "output_type": "stream",
     "text": [
      "[(1089, 0.4910036325454712), (1035, 0.485140323638916), (0, 0.4845851957798004), (1295, 0.48352059721946716), (1570, 0.4829839766025543)]\n",
      "           fname       lname       city state\n",
      "1089  kcwekzzgpr  jcxmhbvkdp  San Ramon    NJ\n",
      "1035  atcldaofbo  dcweyozuel  Homestead    NJ\n",
      "0           John         Doe  Riverside    NJ\n",
      "1295  xstrsgxwii  bmsbhldmdg   Franklin    NJ\n",
      "1570  wgqpblvyhz  tosmxforba   Palmdale    NJ\n"
     ]
    }
   ],
   "source": [
    "vec_NJ = hdDB.columns['state']['NJ']\n",
    "query_vec_NJ = torchhd.bind(hdDB.columns['state'].atomic_vector, hdDB.columns['state']['NJ'])\n",
    "results = hdDB.most_similar_rows(query_vec_NJ, 5)\n",
    "print(results)\n",
    "print(df.iloc[[t[0] for t in results]])"
   ]
  },
  {
   "cell_type": "code",
   "execution_count": 62,
   "metadata": {},
   "outputs": [
    {
     "name": "stdout",
     "output_type": "stream",
     "text": [
      "[(2, 0.47767457365989685), (6, 0.47504958510398865), (7, 0.47221189737319946), (428, 0.03663639351725578), (1687, 0.030521005392074585)]\n",
      "           fname       lname          city state\n",
      "2           John      Repici     Riverside    NJ\n",
      "6           Jack      Repici     Riverside    NJ\n",
      "7          Lilly      Repici  Philadelphia    PA\n",
      "428   sbacvhduqq  nfdjsdgsfl    Wilmington    DE\n",
      "1687  nktcxedsls  ybhrirjmmq  Gaithersburg    DE\n"
     ]
    }
   ],
   "source": [
    "vec_lastname_repici = hdDB.columns['lname']['Repici']\n",
    "query_vec_lastname_repici = torchhd.bind(hdDB.columns['lname'].atomic_vector, hdDB.columns['lname']['Repici'])\n",
    "results = hdDB.most_similar_rows(query_vec_lastname_repici, 5)\n",
    "print(results)\n",
    "print(df.iloc[[t[0] for t in results]])"
   ]
  },
  {
   "cell_type": "code",
   "execution_count": 64,
   "metadata": {},
   "outputs": [
    {
     "name": "stdout",
     "output_type": "stream",
     "text": [
      "MAPTensor(0.4776)\n",
      "MAPTensor(-0.0091)\n",
      "[(6, 0.8214219808578491), (2, 0.6686680912971497), (7, 0.4192749559879303), (0, 0.22414912283420563), (460, 0.1413332223892212), (1295, 0.1337350457906723), (1410, 0.13279324769973755), (1953, 0.13200430572032928), (1228, 0.13127240538597107), (1235, 0.1279529184103012)]\n",
      "           fname       lname                  city state\n",
      "6           Jack      Repici             Riverside    NJ\n",
      "2           John      Repici             Riverside    NJ\n",
      "7          Lilly      Repici          Philadelphia    PA\n",
      "0           John         Doe             Riverside    NJ\n",
      "460   suzxegpacp  crtcveqkza              Bellevue    NJ\n",
      "1295  xstrsgxwii  bmsbhldmdg              Franklin    NJ\n",
      "1410  wfeouwiqft  idmtfhzpwy  Athens-Clarke County    NJ\n",
      "1953  empmvjgixw  bzdxzvnliq                Euless    NJ\n",
      "1228  sccfrryfbq  smpwrczurv               Portage    NJ\n",
      "1235  shyiyhoutb  xqahinollj                Lorain    NJ\n"
     ]
    }
   ],
   "source": [
    "jack_repici_vec = hdDB[6]\n",
    "# t = torchhd.inverse(hdDB.columns['state'].atomic_vector)\n",
    "\n",
    "# unbinding to obtain the state that Jack Repici lives in\n",
    "jack_repici_state_vec = torchhd.bind(jack_repici_vec, torchhd.inverse(hdDB.columns['state'].atomic_vector))\n",
    "print(sim_func(jack_repici_state_vec, hdDB.columns['state']['NJ']))\n",
    "print(sim_func(jack_repici_state_vec, hdDB.columns['state']['PA']))\n",
    "\n",
    "query_vec_jack_repici_state = torchhd.bind(hdDB.columns['state'].atomic_vector, jack_repici_state_vec)\n",
    "query_vec = torchhd.bundle(query_vec_jack_repici_state, query_vec_lastname_repici)\n",
    "results = hdDB.most_similar_rows(query_vec, 10)\n",
    "print(results)\n",
    "print(df.iloc[[t[0] for t in results]])\n"
   ]
  }
 ],
 "metadata": {
  "kernelspec": {
   "display_name": "hdd",
   "language": "python",
   "name": "python3"
  },
  "language_info": {
   "codemirror_mode": {
    "name": "ipython",
    "version": 3
   },
   "file_extension": ".py",
   "mimetype": "text/x-python",
   "name": "python",
   "nbconvert_exporter": "python",
   "pygments_lexer": "ipython3",
   "version": "3.11.5"
  }
 },
 "nbformat": 4,
 "nbformat_minor": 2
}
